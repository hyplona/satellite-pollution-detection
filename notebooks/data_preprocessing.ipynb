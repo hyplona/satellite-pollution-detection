import numpy as np
import pandas as pd
import matplotlib.pyplot as plt
import seaborn as sns
from sklearn.preprocessing import StandardScaler
import rasterio
from rasterio.plot import show
from sklearn.model_selection import train_test_split

# Load the satellite data (e.g., Sentinel-5P)
file_path = 'path_to_your_satellite_data.tif'

# Open the GeoTIFF file using rasterio
with rasterio.open(file_path) as src:
    data = src.read(1)  # Read the first band (typically the pollution or atmospheric band)
    show(src)  # Display the image for visual inspection

# Check for NaN or missing values
if np.any(np.isnan(data)):
    data = np.nan_to_num(data)  # Replace NaNs with 0 (or any other method)

# Normalize the data (if needed)
scaler = StandardScaler()
data_scaled = scaler.fit_transform(data.reshape(-1, 1)).reshape(data.shape)

# If using data in a 2D array
X_train, X_test = train_test_split(data_scaled, test_size=0.2, random_state=42)

# Or split image data accordingly if you want to train on images

# Plot the preprocessed data
plt.imshow(data_scaled, cmap='hot')  # or use other colormap
plt.colorbar()
plt.title("Preprocessed Pollution Data")
plt.show()

np.save('processed_data.npy', data_scaled)

# Save as a new GeoTIFF
with rasterio.open('processed_data.tif', 'w', driver='GTiff', height=data_scaled.shape[0],
                   width=data_scaled.shape[1], count=1, dtype='float32') as dst:
    dst.write(data_scaled, 1)
